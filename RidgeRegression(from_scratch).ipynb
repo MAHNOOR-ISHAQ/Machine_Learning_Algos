{
 "cells": [
  {
   "cell_type": "markdown",
   "id": "3dbc27af-c73c-4777-9d93-a59e88158956",
   "metadata": {},
   "source": [
    "## Ridge regression Implementation"
   ]
  },
  {
   "cell_type": "code",
   "execution_count": 1,
   "id": "ee4d43b5-54bd-4bf5-868a-d13ec7d2d026",
   "metadata": {},
   "outputs": [],
   "source": [
    "import numpy as np\n",
    "import matplotlib.pyplot as plt"
   ]
  },
  {
   "cell_type": "code",
   "execution_count": 3,
   "id": "0646b3d6-a1da-4060-b15d-f909de946a68",
   "metadata": {},
   "outputs": [],
   "source": [
    "## step 01 : Creating the linear data\n",
    "np.random.seed(42)\n",
    "n_samples = 100\n",
    "n_features = 3\n",
    "X = 2 * np.random.rand(n_samples, n_features)\n",
    "true_w = np.array([[3.5], [-2.0], [1.0]])\n",
    "true_b = 1.25\n",
    "y = X @ true_w + true_b + np.random.randn(n_samples, 1) * 0.5"
   ]
  },
  {
   "cell_type": "code",
   "execution_count": 4,
   "id": "3d175c23-8f0e-4285-a5e7-402a4e6f3472",
   "metadata": {},
   "outputs": [],
   "source": [
    "## step 02 : Manual train-test-split\n",
    "data = np.hstack((X, y))\n",
    "np.random.shuffle(data)\n",
    "\n",
    "n_train = int(0.7 * n_samples)\n",
    "n_val = int(0.15 * n_samples)\n",
    "n_test = n_samples - n_train - n_val\n",
    "\n",
    "train_data = data[:n_train]\n",
    "val_data = data[n_train:n_train+n_val]\n",
    "test_data = data[n_train+n_val:]\n",
    "\n",
    "X_train, y_train = train_data[:, :-1], train_data[:, -1:]\n",
    "X_val, y_val = val_data[:, :-1], val_data[:, -1:]\n",
    "X_test, y_test = test_data[:, :-1], test_data[:, -1:]"
   ]
  },
  {
   "cell_type": "code",
   "execution_count": 16,
   "id": "a4cca3ca-0f10-4198-a1ec-f590fde95b5c",
   "metadata": {},
   "outputs": [],
   "source": [
    "## step 03 : Initializing the parameters\n",
    "w = np.random.randn(n_features, 1)\n",
    "b = np.random.randn()\n",
    "learning_rate = 0.05\n",
    "lambda_ = 0.1\n",
    "n_iterations = 1000\n",
    "m = X_train.shape[0]"
   ]
  },
  {
   "cell_type": "code",
   "execution_count": 17,
   "id": "c9689e1b-1926-4878-bd88-991455127bd9",
   "metadata": {},
   "outputs": [
    {
     "name": "stdout",
     "output_type": "stream",
     "text": [
      "Iteration 0: Train Loss = 23.0752, Val Loss = 9.9983\n",
      "Iteration 100: Train Loss = 1.7094, Val Loss = 1.5857\n",
      "Iteration 200: Train Loss = 1.6485, Val Loss = 1.5016\n",
      "Iteration 300: Train Loss = 1.6398, Val Loss = 1.4853\n",
      "Iteration 400: Train Loss = 1.6385, Val Loss = 1.4815\n",
      "Iteration 500: Train Loss = 1.6383, Val Loss = 1.4804\n",
      "Iteration 600: Train Loss = 1.6383, Val Loss = 1.4800\n",
      "Iteration 700: Train Loss = 1.6383, Val Loss = 1.4799\n",
      "Iteration 800: Train Loss = 1.6383, Val Loss = 1.4798\n",
      "Iteration 900: Train Loss = 1.6383, Val Loss = 1.4798\n"
     ]
    }
   ],
   "source": [
    "## step 04 :  Gradient descent loop\n",
    "train_loss_history = []\n",
    "val_loss_history = []\n",
    "\n",
    "for i in range(n_iterations):\n",
    "    # Predict\n",
    "    y_pred = X_train @ w + b\n",
    "\n",
    "    # Loss with Ridge regularization\n",
    "    train_loss = (1/m) * np.sum((y_pred - y_train)**2) + lambda_ * np.sum(w**2)\n",
    "    train_loss_history.append(train_loss)\n",
    "\n",
    "    # Gradients\n",
    "    dw = (2/m) * X_train.T @ (y_pred - y_train) + 2 * lambda_ * w\n",
    "    db = (2/m) * np.sum(y_pred - y_train)\n",
    "\n",
    "    # Update weights\n",
    "    w -= learning_rate * dw\n",
    "    b -= learning_rate * db\n",
    "\n",
    "    # Validation loss\n",
    "    y_val_pred = X_val @ w + b\n",
    "    val_loss = (1/len(X_val)) * np.sum((y_val_pred - y_val)**2) + lambda_ * np.sum(w**2)\n",
    "    val_loss_history.append(val_loss)\n",
    "\n",
    "    if i % 100 == 0:\n",
    "        print(f\"Iteration {i}: Train Loss = {train_loss:.4f}, Val Loss = {val_loss:.4f}\")"
   ]
  },
  {
   "cell_type": "code",
   "execution_count": 18,
   "id": "f8b05d29-02fe-4c3c-b06a-d85d68eda6af",
   "metadata": {},
   "outputs": [
    {
     "name": "stdout",
     "output_type": "stream",
     "text": [
      "\n",
      "Final Test Loss (with Ridge): 1.5895\n"
     ]
    }
   ],
   "source": [
    "# Step 5: Final Test Loss\n",
    "y_test_pred = X_test @ w + b\n",
    "test_loss = (1/len(X_test)) * np.sum((y_test_pred - y_test)**2) + lambda_ * np.sum(w**2)\n",
    "print(f\"\\nFinal Test Loss (with Ridge): {test_loss:.4f}\")\n"
   ]
  },
  {
   "cell_type": "code",
   "execution_count": 19,
   "id": "4ae5057a-3c4e-4a1c-812b-db6138894238",
   "metadata": {},
   "outputs": [
    {
     "data": {
      "image/png": "[encoded data removed]",
      "text/plain": [
       "<Figure size 640x480 with 1 Axes>"
      ]
     },
     "metadata": {},
     "output_type": "display_data"
    }
   ],
   "source": [
    "# Step 6: Plot loss curves\n",
    "plt.plot(train_loss_history, label='Training Loss')\n",
    "plt.plot(val_loss_history, label='Validation Loss')\n",
    "plt.xlabel('Iterations')\n",
    "plt.ylabel('MSE + L2 Penalty')\n",
    "plt.title('Ridge Regression Loss (Multi-feature)')\n",
    "plt.legend()\n",
    "plt.grid(True)\n",
    "plt.show()"
   ]
  },
  {
   "cell_type": "code",
   "execution_count": 20,
   "id": "ed7504e1-ac84-4fdf-bdc7-87facffb4d85",
   "metadata": {},
   "outputs": [
    {
     "name": "stdout",
     "output_type": "stream",
     "text": [
      "Train R²: 0.9073465757582864\n",
      "Test R²: 0.8999795589367819\n"
     ]
    }
   ],
   "source": [
    "from sklearn.metrics import r2_score\n",
    "\n",
    "print(\"Train R²:\", r2_score(y_train, X_train @ w + b))\n",
    "print(\"Test R²:\", r2_score(y_test, X_test @ w + b))"
   ]
  },
  {
   "cell_type": "code",
   "execution_count": null,
   "id": "1b184617-98e5-400c-a0e8-adc9ccfef9f9",
   "metadata": {},
   "outputs": [],
   "source": []
  },
  {
   "cell_type": "code",
   "execution_count": null,
   "id": "1be2f30d-6d0d-407c-bc3d-6ae43b2f8188",
   "metadata": {},
   "outputs": [],
   "source": []
  }
 ],
 "metadata": {
  "kernelspec": {
   "display_name": "Python 3 (ipykernel)",
   "language": "python",
   "name": "python3"
  },
  "language_info": {
   "codemirror_mode": {
    "name": "ipython",
    "version": 3
   },
   "file_extension": ".py",
   "mimetype": "text/x-python",
   "name": "python",
   "nbconvert_exporter": "python",
   "pygments_lexer": "ipython3",
   "version": "3.10.11"
  }
 },
 "nbformat": 4,
 "nbformat_minor": 5
}
